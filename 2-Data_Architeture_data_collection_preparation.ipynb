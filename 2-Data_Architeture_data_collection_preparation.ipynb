{
 "cells": [
  {
   "cell_type": "markdown",
   "id": "f40df9ac",
   "metadata": {},
   "source": [
    "# Data Collection & Preparation"
   ]
  },
  {
   "cell_type": "markdown",
   "id": "e4b1ee5c",
   "metadata": {},
   "source": [
    "## 1.Import python packages"
   ]
  },
  {
   "cell_type": "code",
   "execution_count": 1,
   "id": "b5b49dae",
   "metadata": {},
   "outputs": [],
   "source": [
    "import pandas as pd\n",
    "import numpy as np\n",
    "import os\n",
    "file_path='C:/Business_Data_Analysis/'\n",
    "# file_path=os.environ['USERPROFILE']+'/Business_Data_Analysis/'"
   ]
  },
  {
   "cell_type": "markdown",
   "id": "e150485d",
   "metadata": {},
   "source": [
    "## 2.Establish connection to database"
   ]
  },
  {
   "cell_type": "code",
   "execution_count": 2,
   "id": "193bf6d1",
   "metadata": {},
   "outputs": [],
   "source": [
    "import pyodbc\n",
    "import urllib\n",
    "import sqlalchemy\n",
    "\n",
    "'''sources databases'''\n",
    "params_p = urllib.parse.quote_plus(\"DRIVER={SQL Server Native Client 11.0};\"\n",
    "                                 \"SERVER=localhost\\SQLEXPRESS;\"\n",
    "                                 \"DATABASE=DataWarehouse1;\"\n",
    "                                 \"UID=sa;\"\n",
    "                                 \"PWD=user1\")\n",
    "\n",
    "engine_p = sqlalchemy.create_engine(\"mssql+pyodbc:///?odbc_connect={}\".format(params_p))\n",
    "\n",
    "\n",
    "params_s = urllib.parse.quote_plus(\"DRIVER={SQL Server Native Client 11.0};\"\n",
    "                                 \"SERVER=localhost\\SQLEXPRESS;\"\n",
    "                                 \"DATABASE=DataWarehouse2;\"\n",
    "                                 \"UID=sa;\"\n",
    "                                 \"PWD=user1\")\n",
    "\n",
    "engine_s = sqlalchemy.create_engine(\"mssql+pyodbc:///?odbc_connect={}\".format(params_s))\n",
    "\n",
    "\n",
    "\n",
    "'''destination databases'''\n",
    "\n",
    "params_datahub = urllib.parse.quote_plus(\"DRIVER={SQL Server Native Client 11.0};\"\n",
    "                                 \"SERVER=localhost\\SQLEXPRESS;\"\n",
    "                                 \"DATABASE=datahub;\"\n",
    "                                 \"UID=sa;\"\n",
    "                                 \"PWD=user1\")\n",
    "\n",
    "engine_datahub = sqlalchemy.create_engine(\"mssql+pyodbc:///?odbc_connect={}\".format(params_datahub))"
   ]
  },
  {
   "cell_type": "markdown",
   "id": "76680aa6",
   "metadata": {},
   "source": [
    "## 3.back up your data"
   ]
  },
  {
   "cell_type": "code",
   "execution_count": 3,
   "id": "86126118",
   "metadata": {},
   "outputs": [
    {
     "name": "stdout",
     "output_type": "stream",
     "text": [
      "Current Timestamp :  24-Feb-2022-20-14-19\n"
     ]
    }
   ],
   "source": [
    "'''get historical data from source database'''\n",
    "df_sales_p=pd.read_sql_table('sales_data_primary',engine_p)\n",
    "\n",
    "from datetime import datetime\n",
    "dateTimeObj = datetime.now()\n",
    "timestampStr = dateTimeObj.strftime(\"%d-%b-%Y-%H-%M-%S\")\n",
    "print('Current Timestamp : ', timestampStr)\n",
    "\n",
    "df_sales_p.to_csv(file_path+'data/sales_data_primary_backup_'+timestampStr+'.csv',index=False)"
   ]
  },
  {
   "cell_type": "markdown",
   "id": "a368663c",
   "metadata": {},
   "source": [
    "## 4.ETL data to datahub"
   ]
  },
  {
   "cell_type": "code",
   "execution_count": 4,
   "id": "3ff662f8",
   "metadata": {},
   "outputs": [],
   "source": [
    "df_sales_s=pd.read_sql('sales_data_secondary',engine_s)\n",
    "\n",
    "df_sales_s.to_sql(\"sales_data_secondary\",engine_datahub,if_exists='replace',index=False)"
   ]
  },
  {
   "cell_type": "markdown",
   "id": "ab7575dc",
   "metadata": {},
   "source": [
    "## a. Append new data to historical data"
   ]
  },
  {
   "cell_type": "markdown",
   "id": "cacf8e95",
   "metadata": {},
   "source": [
    "### i. Option 1: using python"
   ]
  },
  {
   "cell_type": "code",
   "execution_count": 5,
   "id": "9bdd0184",
   "metadata": {},
   "outputs": [
    {
     "data": {
      "text/plain": [
       "(10011, 11)"
      ]
     },
     "execution_count": 5,
     "metadata": {},
     "output_type": "execute_result"
    }
   ],
   "source": [
    "from datetime import datetime\n",
    "# dateparse = lambda x: datetime.strptime(x, '%m/%d/%Y')\n",
    "\n",
    "# df = pd.read_csv(infile, parse_dates=['onboarded_month','user_login_month','auth_month'], date_parser=dateparse)\n",
    "\n",
    "\n",
    "'''get new data'''\n",
    "# df_sales_p_new=pd.read_csv(file_path+'data/sales_data_class_new.csv',parse_dates=['onboarded_month','user_login_month','auth_month'], date_parser=dateparse,index_col=False)\n",
    "df_sales_p_new=pd.read_csv(file_path+'data/sales_data_class_new.csv',parse_dates=['onboarded_month','user_login_month','auth_month'],index_col=False)\n",
    "fmt='%m/%d/%Y'\n",
    "'''get historical data from source database'''\n",
    "df_sales_p=pd.read_sql_table('sales_data_primary',engine_p)\n",
    "\n",
    "\n",
    "'''append new data to historical data'''\n",
    "df_sales_p=pd.concat([df_sales_p,df_sales_p_new])\n",
    "\n",
    "'''drop duplicate'''\n",
    "df_sales_p.drop_duplicates(keep='first', inplace=True)\n",
    "\n",
    "df_sales_p.shape"
   ]
  },
  {
   "cell_type": "markdown",
   "id": "ab4d4ab4",
   "metadata": {},
   "source": [
    "### ii. Check data"
   ]
  },
  {
   "cell_type": "code",
   "execution_count": 6,
   "id": "afd851a0",
   "metadata": {},
   "outputs": [
    {
     "data": {
      "text/plain": [
       "((17, 11), (10011, 11))"
      ]
     },
     "execution_count": 6,
     "metadata": {},
     "output_type": "execute_result"
    }
   ],
   "source": [
    "df_sales_p_new.shape,df_sales_p.shape"
   ]
  },
  {
   "cell_type": "code",
   "execution_count": 7,
   "id": "78bac0a8",
   "metadata": {},
   "outputs": [
    {
     "data": {
      "text/html": [
       "<div>\n",
       "<style scoped>\n",
       "    .dataframe tbody tr th:only-of-type {\n",
       "        vertical-align: middle;\n",
       "    }\n",
       "\n",
       "    .dataframe tbody tr th {\n",
       "        vertical-align: top;\n",
       "    }\n",
       "\n",
       "    .dataframe thead th {\n",
       "        text-align: right;\n",
       "    }\n",
       "</style>\n",
       "<table border=\"1\" class=\"dataframe\">\n",
       "  <thead>\n",
       "    <tr style=\"text-align: right;\">\n",
       "      <th></th>\n",
       "      <th>user_login_month</th>\n",
       "      <th>count_user_login</th>\n",
       "      <th>auth_month</th>\n",
       "      <th>registration_status</th>\n",
       "      <th>primary_act_holder_member_id</th>\n",
       "      <th>transaction_amount</th>\n",
       "      <th>purchase_amount</th>\n",
       "      <th>purchase_count</th>\n",
       "      <th>receive_amount</th>\n",
       "      <th>receive_count</th>\n",
       "    </tr>\n",
       "  </thead>\n",
       "  <tbody>\n",
       "    <tr>\n",
       "      <th>3995</th>\n",
       "      <td>2021-01-01</td>\n",
       "      <td>35</td>\n",
       "      <td>NaT</td>\n",
       "      <td>activated</td>\n",
       "      <td>341</td>\n",
       "      <td>48.66</td>\n",
       "      <td>1354.30</td>\n",
       "      <td>59</td>\n",
       "      <td>585.10</td>\n",
       "      <td>97</td>\n",
       "    </tr>\n",
       "    <tr>\n",
       "      <th>3996</th>\n",
       "      <td>2021-01-01</td>\n",
       "      <td>1</td>\n",
       "      <td>2021-01-01</td>\n",
       "      <td>activated</td>\n",
       "      <td>722</td>\n",
       "      <td>49.52</td>\n",
       "      <td>123.85</td>\n",
       "      <td>88</td>\n",
       "      <td>1121.15</td>\n",
       "      <td>40</td>\n",
       "    </tr>\n",
       "    <tr>\n",
       "      <th>3997</th>\n",
       "      <td>2021-01-01</td>\n",
       "      <td>65</td>\n",
       "      <td>2021-01-01</td>\n",
       "      <td>activated</td>\n",
       "      <td>314</td>\n",
       "      <td>44.22</td>\n",
       "      <td>1538.85</td>\n",
       "      <td>22</td>\n",
       "      <td>1218.18</td>\n",
       "      <td>88</td>\n",
       "    </tr>\n",
       "    <tr>\n",
       "      <th>3998</th>\n",
       "      <td>2021-01-01</td>\n",
       "      <td>58</td>\n",
       "      <td>NaT</td>\n",
       "      <td>activated</td>\n",
       "      <td>442</td>\n",
       "      <td>63.95</td>\n",
       "      <td>1194.69</td>\n",
       "      <td>77</td>\n",
       "      <td>16.67</td>\n",
       "      <td>30</td>\n",
       "    </tr>\n",
       "    <tr>\n",
       "      <th>3999</th>\n",
       "      <td>2021-01-01</td>\n",
       "      <td>73</td>\n",
       "      <td>NaT</td>\n",
       "      <td>activated</td>\n",
       "      <td>253</td>\n",
       "      <td>67.81</td>\n",
       "      <td>1455.40</td>\n",
       "      <td>90</td>\n",
       "      <td>1176.96</td>\n",
       "      <td>72</td>\n",
       "    </tr>\n",
       "  </tbody>\n",
       "</table>\n",
       "</div>"
      ],
      "text/plain": [
       "     user_login_month  count_user_login auth_month registration_status  \\\n",
       "3995       2021-01-01                35        NaT           activated   \n",
       "3996       2021-01-01                 1 2021-01-01           activated   \n",
       "3997       2021-01-01                65 2021-01-01           activated   \n",
       "3998       2021-01-01                58        NaT           activated   \n",
       "3999       2021-01-01                73        NaT           activated   \n",
       "\n",
       "      primary_act_holder_member_id  transaction_amount  purchase_amount  \\\n",
       "3995                           341               48.66          1354.30   \n",
       "3996                           722               49.52           123.85   \n",
       "3997                           314               44.22          1538.85   \n",
       "3998                           442               63.95          1194.69   \n",
       "3999                           253               67.81          1455.40   \n",
       "\n",
       "      purchase_count  receive_amount  receive_count  \n",
       "3995              59          585.10             97  \n",
       "3996              88         1121.15             40  \n",
       "3997              22         1218.18             88  \n",
       "3998              77           16.67             30  \n",
       "3999              90         1176.96             72  "
      ]
     },
     "execution_count": 7,
     "metadata": {},
     "output_type": "execute_result"
    }
   ],
   "source": [
    "df_sales_s.tail()"
   ]
  },
  {
   "cell_type": "markdown",
   "id": "07953cb3",
   "metadata": {},
   "source": [
    "### iii. Export updated historical data to database"
   ]
  },
  {
   "cell_type": "code",
   "execution_count": 8,
   "id": "ac62d11f",
   "metadata": {},
   "outputs": [],
   "source": [
    "df_sales_p.to_sql(\"sales_data_primary\", engine_datahub,if_exists='replace',index=False)"
   ]
  },
  {
   "cell_type": "markdown",
   "id": "d5bbb3d5",
   "metadata": {},
   "source": [
    "### i. Option 2: using SQL"
   ]
  },
  {
   "cell_type": "code",
   "execution_count": 9,
   "id": "7270b0b5",
   "metadata": {},
   "outputs": [],
   "source": [
    "from datetime import datetime\n",
    "dateparse = lambda x: datetime.strptime(x, '%m/%d/%Y')\n",
    "\n",
    "\n",
    "'''get new data'''\n",
    "df_sales_p_new=pd.read_csv(file_path+'data/sales_data_class_new.csv',parse_dates=['onboarded_month','user_login_month','auth_month'], index_col=False)\n",
    "\n",
    "\n",
    "'''export new data into datahub'''\n",
    "df_sales_p_new.to_sql(\"sql_sales_data_primary_new\", engine_datahub,if_exists='replace',index=False) \n",
    "\n",
    "'''append new data to historical data'''\n",
    "\n",
    "server = 'localhost\\SQLEXPRESS' \n",
    "database = 'datahub' \n",
    "username = 'sa' \n",
    "password = 'user1' \n",
    "cnxn = pyodbc.connect('DRIVER={SQL Server};SERVER='+server+';DATABASE='+database+';UID='+username+';PWD='+ password)\n",
    "cursor = cnxn.cursor()\n",
    "\n",
    "sql='''\n",
    "\n",
    "DROP TABLE IF EXISTS #temp1\n",
    "\n",
    "select * into #temp1\n",
    "from (\n",
    "select * from [dbo].[sql_sales_data_primary]\n",
    "union \n",
    "select * from [dbo].[sql_sales_data_primary_new]) a\n",
    "\n",
    "drop table if EXISTS [dbo].[sql_sales_data_primary]\n",
    "\n",
    "select * into [dbo].[sql_sales_data_primary]\n",
    "from #temp1\n",
    "\n",
    "'''\n",
    "\n",
    "cursor.execute(sql)\n",
    "cnxn.commit()\n",
    "cursor.close()\n",
    "\n"
   ]
  },
  {
   "cell_type": "code",
   "execution_count": null,
   "id": "bac88221",
   "metadata": {},
   "outputs": [],
   "source": []
  }
 ],
 "metadata": {
  "kernelspec": {
   "display_name": "Python 3 (ipykernel)",
   "language": "python",
   "name": "python3"
  },
  "language_info": {
   "codemirror_mode": {
    "name": "ipython",
    "version": 3
   },
   "file_extension": ".py",
   "mimetype": "text/x-python",
   "name": "python",
   "nbconvert_exporter": "python",
   "pygments_lexer": "ipython3",
   "version": "3.9.7"
  }
 },
 "nbformat": 4,
 "nbformat_minor": 5
}
