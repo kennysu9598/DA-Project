{
 "cells": [
  {
   "cell_type": "markdown",
   "id": "8cf3b79e",
   "metadata": {},
   "source": [
    "# Import python packages"
   ]
  },
  {
   "cell_type": "code",
   "execution_count": 2,
   "id": "1ee5b5d1",
   "metadata": {},
   "outputs": [],
   "source": [
    "import pandas as pd\n",
    "import numpy as np\n",
    "# %pip install pypandoc --user\n",
    "# %pip install jupyslides --user\n",
    "# %pip install yellowbrick --user\n",
    "# %pip install plotly --user\n",
    "# %pip install dill --user"
   ]
  },
  {
   "cell_type": "code",
   "execution_count": 1,
   "id": "68fdf510",
   "metadata": {},
   "outputs": [
    {
     "name": "stdout",
     "output_type": "stream",
     "text": [
      "Collecting pypandoc\n",
      "  Downloading pypandoc-1.7.2-py2.py3-none-any.whl (29 kB)\n",
      "Installing collected packages: pypandoc\n",
      "Successfully installed pypandoc-1.7.2\n",
      "Note: you may need to restart the kernel to use updated packages.\n",
      "Collecting jupyslides\n",
      "  Downloading jupyslides-0.194.tar.gz (3.9 kB)\n",
      "Requirement already satisfied: ipywidgets in c:\\users\\kenny\\anaconda3\\lib\\site-packages (from jupyslides) (7.6.5)\n",
      "Collecting natsort\n",
      "  Downloading natsort-8.1.0-py3-none-any.whl (37 kB)\n",
      "Requirement already satisfied: IPython in c:\\users\\kenny\\anaconda3\\lib\\site-packages (from jupyslides) (7.29.0)\n",
      "Requirement already satisfied: setuptools>=18.5 in c:\\users\\kenny\\anaconda3\\lib\\site-packages (from IPython->jupyslides) (58.0.4)\n",
      "Requirement already satisfied: matplotlib-inline in c:\\users\\kenny\\anaconda3\\lib\\site-packages (from IPython->jupyslides) (0.1.2)\n",
      "Requirement already satisfied: jedi>=0.16 in c:\\users\\kenny\\anaconda3\\lib\\site-packages (from IPython->jupyslides) (0.18.0)\n",
      "Requirement already satisfied: decorator in c:\\users\\kenny\\anaconda3\\lib\\site-packages (from IPython->jupyslides) (5.1.0)\n",
      "Requirement already satisfied: pygments in c:\\users\\kenny\\anaconda3\\lib\\site-packages (from IPython->jupyslides) (2.10.0)\n",
      "Requirement already satisfied: traitlets>=4.2 in c:\\users\\kenny\\anaconda3\\lib\\site-packages (from IPython->jupyslides) (5.1.0)\n",
      "Requirement already satisfied: backcall in c:\\users\\kenny\\anaconda3\\lib\\site-packages (from IPython->jupyslides) (0.2.0)\n",
      "Requirement already satisfied: prompt-toolkit!=3.0.0,!=3.0.1,<3.1.0,>=2.0.0 in c:\\users\\kenny\\anaconda3\\lib\\site-packages (from IPython->jupyslides) (3.0.20)\n",
      "Requirement already satisfied: colorama in c:\\users\\kenny\\anaconda3\\lib\\site-packages (from IPython->jupyslides) (0.4.4)\n",
      "Requirement already satisfied: pickleshare in c:\\users\\kenny\\anaconda3\\lib\\site-packages (from IPython->jupyslides) (0.7.5)\n",
      "Requirement already satisfied: parso<0.9.0,>=0.8.0 in c:\\users\\kenny\\anaconda3\\lib\\site-packages (from jedi>=0.16->IPython->jupyslides) (0.8.2)\n",
      "Requirement already satisfied: wcwidth in c:\\users\\kenny\\anaconda3\\lib\\site-packages (from prompt-toolkit!=3.0.0,!=3.0.1,<3.1.0,>=2.0.0->IPython->jupyslides) (0.2.5)\n",
      "Requirement already satisfied: ipykernel>=4.5.1 in c:\\users\\kenny\\anaconda3\\lib\\site-packages (from ipywidgets->jupyslides) (6.4.1)\n",
      "Requirement already satisfied: nbformat>=4.2.0 in c:\\users\\kenny\\anaconda3\\lib\\site-packages (from ipywidgets->jupyslides) (5.1.3)\n",
      "Requirement already satisfied: widgetsnbextension~=3.5.0 in c:\\users\\kenny\\anaconda3\\lib\\site-packages (from ipywidgets->jupyslides) (3.5.1)\n",
      "Requirement already satisfied: ipython-genutils~=0.2.0 in c:\\users\\kenny\\anaconda3\\lib\\site-packages (from ipywidgets->jupyslides) (0.2.0)\n",
      "Requirement already satisfied: jupyterlab-widgets>=1.0.0 in c:\\users\\kenny\\anaconda3\\lib\\site-packages (from ipywidgets->jupyslides) (1.0.0)\n",
      "Requirement already satisfied: tornado<7.0,>=4.2 in c:\\users\\kenny\\anaconda3\\lib\\site-packages (from ipykernel>=4.5.1->ipywidgets->jupyslides) (6.1)\n",
      "Requirement already satisfied: debugpy<2.0,>=1.0.0 in c:\\users\\kenny\\anaconda3\\lib\\site-packages (from ipykernel>=4.5.1->ipywidgets->jupyslides) (1.4.1)\n",
      "Requirement already satisfied: jupyter-client<8.0 in c:\\users\\kenny\\anaconda3\\lib\\site-packages (from ipykernel>=4.5.1->ipywidgets->jupyslides) (6.1.12)\n",
      "Requirement already satisfied: pyzmq>=13 in c:\\users\\kenny\\anaconda3\\lib\\site-packages (from jupyter-client<8.0->ipykernel>=4.5.1->ipywidgets->jupyslides) (22.2.1)\n",
      "Requirement already satisfied: jupyter-core>=4.6.0 in c:\\users\\kenny\\anaconda3\\lib\\site-packages (from jupyter-client<8.0->ipykernel>=4.5.1->ipywidgets->jupyslides) (4.8.1)\n",
      "Requirement already satisfied: python-dateutil>=2.1 in c:\\users\\kenny\\anaconda3\\lib\\site-packages (from jupyter-client<8.0->ipykernel>=4.5.1->ipywidgets->jupyslides) (2.8.2)\n",
      "Requirement already satisfied: pywin32>=1.0 in c:\\users\\kenny\\anaconda3\\lib\\site-packages (from jupyter-core>=4.6.0->jupyter-client<8.0->ipykernel>=4.5.1->ipywidgets->jupyslides) (228)\n",
      "Requirement already satisfied: jsonschema!=2.5.0,>=2.4 in c:\\users\\kenny\\anaconda3\\lib\\site-packages (from nbformat>=4.2.0->ipywidgets->jupyslides) (3.2.0)\n",
      "Requirement already satisfied: attrs>=17.4.0 in c:\\users\\kenny\\anaconda3\\lib\\site-packages (from jsonschema!=2.5.0,>=2.4->nbformat>=4.2.0->ipywidgets->jupyslides) (21.2.0)\n",
      "Requirement already satisfied: six>=1.11.0 in c:\\users\\kenny\\anaconda3\\lib\\site-packages (from jsonschema!=2.5.0,>=2.4->nbformat>=4.2.0->ipywidgets->jupyslides) (1.16.0)\n",
      "Requirement already satisfied: pyrsistent>=0.14.0 in c:\\users\\kenny\\anaconda3\\lib\\site-packages (from jsonschema!=2.5.0,>=2.4->nbformat>=4.2.0->ipywidgets->jupyslides) (0.18.0)\n",
      "Requirement already satisfied: notebook>=4.4.1 in c:\\users\\kenny\\anaconda3\\lib\\site-packages (from widgetsnbextension~=3.5.0->ipywidgets->jupyslides) (6.4.5)\n",
      "Requirement already satisfied: prometheus-client in c:\\users\\kenny\\anaconda3\\lib\\site-packages (from notebook>=4.4.1->widgetsnbextension~=3.5.0->ipywidgets->jupyslides) (0.11.0)\n",
      "Requirement already satisfied: argon2-cffi in c:\\users\\kenny\\anaconda3\\lib\\site-packages (from notebook>=4.4.1->widgetsnbextension~=3.5.0->ipywidgets->jupyslides) (20.1.0)\n",
      "Requirement already satisfied: nbconvert in c:\\users\\kenny\\anaconda3\\lib\\site-packages (from notebook>=4.4.1->widgetsnbextension~=3.5.0->ipywidgets->jupyslides) (6.1.0)\n",
      "Requirement already satisfied: terminado>=0.8.3 in c:\\users\\kenny\\anaconda3\\lib\\site-packages (from notebook>=4.4.1->widgetsnbextension~=3.5.0->ipywidgets->jupyslides) (0.9.4)\n",
      "Requirement already satisfied: Send2Trash>=1.5.0 in c:\\users\\kenny\\anaconda3\\lib\\site-packages (from notebook>=4.4.1->widgetsnbextension~=3.5.0->ipywidgets->jupyslides) (1.8.0)\n",
      "Requirement already satisfied: jinja2 in c:\\users\\kenny\\anaconda3\\lib\\site-packages (from notebook>=4.4.1->widgetsnbextension~=3.5.0->ipywidgets->jupyslides) (2.11.3)\n",
      "Requirement already satisfied: pywinpty>=0.5 in c:\\users\\kenny\\anaconda3\\lib\\site-packages (from terminado>=0.8.3->notebook>=4.4.1->widgetsnbextension~=3.5.0->ipywidgets->jupyslides) (0.5.7)\n",
      "Requirement already satisfied: cffi>=1.0.0 in c:\\users\\kenny\\anaconda3\\lib\\site-packages (from argon2-cffi->notebook>=4.4.1->widgetsnbextension~=3.5.0->ipywidgets->jupyslides) (1.14.6)\n",
      "Requirement already satisfied: pycparser in c:\\users\\kenny\\anaconda3\\lib\\site-packages (from cffi>=1.0.0->argon2-cffi->notebook>=4.4.1->widgetsnbextension~=3.5.0->ipywidgets->jupyslides) (2.20)\n",
      "Requirement already satisfied: MarkupSafe>=0.23 in c:\\users\\kenny\\anaconda3\\lib\\site-packages (from jinja2->notebook>=4.4.1->widgetsnbextension~=3.5.0->ipywidgets->jupyslides) (1.1.1)\n",
      "Requirement already satisfied: pandocfilters>=1.4.1 in c:\\users\\kenny\\anaconda3\\lib\\site-packages (from nbconvert->notebook>=4.4.1->widgetsnbextension~=3.5.0->ipywidgets->jupyslides) (1.4.3)\n",
      "Requirement already satisfied: defusedxml in c:\\users\\kenny\\anaconda3\\lib\\site-packages (from nbconvert->notebook>=4.4.1->widgetsnbextension~=3.5.0->ipywidgets->jupyslides) (0.7.1)\n",
      "Requirement already satisfied: bleach in c:\\users\\kenny\\anaconda3\\lib\\site-packages (from nbconvert->notebook>=4.4.1->widgetsnbextension~=3.5.0->ipywidgets->jupyslides) (4.0.0)\n",
      "Requirement already satisfied: testpath in c:\\users\\kenny\\anaconda3\\lib\\site-packages (from nbconvert->notebook>=4.4.1->widgetsnbextension~=3.5.0->ipywidgets->jupyslides) (0.5.0)\n",
      "Requirement already satisfied: entrypoints>=0.2.2 in c:\\users\\kenny\\anaconda3\\lib\\site-packages (from nbconvert->notebook>=4.4.1->widgetsnbextension~=3.5.0->ipywidgets->jupyslides) (0.3)\n",
      "Requirement already satisfied: nbclient<0.6.0,>=0.5.0 in c:\\users\\kenny\\anaconda3\\lib\\site-packages (from nbconvert->notebook>=4.4.1->widgetsnbextension~=3.5.0->ipywidgets->jupyslides) (0.5.3)\n",
      "Requirement already satisfied: mistune<2,>=0.8.1 in c:\\users\\kenny\\anaconda3\\lib\\site-packages (from nbconvert->notebook>=4.4.1->widgetsnbextension~=3.5.0->ipywidgets->jupyslides) (0.8.4)\n",
      "Requirement already satisfied: jupyterlab-pygments in c:\\users\\kenny\\anaconda3\\lib\\site-packages (from nbconvert->notebook>=4.4.1->widgetsnbextension~=3.5.0->ipywidgets->jupyslides) (0.1.2)\n",
      "Requirement already satisfied: nest-asyncio in c:\\users\\kenny\\anaconda3\\lib\\site-packages (from nbclient<0.6.0,>=0.5.0->nbconvert->notebook>=4.4.1->widgetsnbextension~=3.5.0->ipywidgets->jupyslides) (1.5.1)\n",
      "Requirement already satisfied: async-generator in c:\\users\\kenny\\anaconda3\\lib\\site-packages (from nbclient<0.6.0,>=0.5.0->nbconvert->notebook>=4.4.1->widgetsnbextension~=3.5.0->ipywidgets->jupyslides) (1.10)\n",
      "Requirement already satisfied: packaging in c:\\users\\kenny\\anaconda3\\lib\\site-packages (from bleach->nbconvert->notebook>=4.4.1->widgetsnbextension~=3.5.0->ipywidgets->jupyslides) (21.0)\n",
      "Requirement already satisfied: webencodings in c:\\users\\kenny\\anaconda3\\lib\\site-packages (from bleach->nbconvert->notebook>=4.4.1->widgetsnbextension~=3.5.0->ipywidgets->jupyslides) (0.5.1)\n",
      "Requirement already satisfied: pyparsing>=2.0.2 in c:\\users\\kenny\\anaconda3\\lib\\site-packages (from packaging->bleach->nbconvert->notebook>=4.4.1->widgetsnbextension~=3.5.0->ipywidgets->jupyslides) (3.0.4)\n",
      "Building wheels for collected packages: jupyslides\n",
      "  Building wheel for jupyslides (setup.py): started\n",
      "  Building wheel for jupyslides (setup.py): finished with status 'done'\n",
      "  Created wheel for jupyslides: filename=jupyslides-0.194-py3-none-any.whl size=4376 sha256=7a03209f25842c5721c76cd627c357dd23966f962a89b4d77bdc676fb3053ba3\n",
      "  Stored in directory: c:\\users\\kenny\\appdata\\local\\pip\\cache\\wheels\\8e\\94\\0b\\d3e9a6eefc8887a4622263794a92e4693ad6340b14f21447f6\n",
      "Successfully built jupyslides\n",
      "Installing collected packages: natsort, jupyslides\n",
      "Successfully installed jupyslides-0.194 natsort-8.1.0\n",
      "Note: you may need to restart the kernel to use updated packages.\n"
     ]
    },
    {
     "name": "stderr",
     "output_type": "stream",
     "text": [
      "  WARNING: The script natsort.exe is installed in 'C:\\Users\\kenny\\AppData\\Roaming\\Python\\Python39\\Scripts' which is not on PATH.\n",
      "  Consider adding this directory to PATH or, if you prefer to suppress this warning, use --no-warn-script-location.\n"
     ]
    },
    {
     "name": "stdout",
     "output_type": "stream",
     "text": [
      "Collecting yellowbrickNote: you may need to restart the kernel to use updated packages.\n",
      "  Downloading yellowbrick-1.4-py3-none-any.whl (274 kB)\n",
      "Requirement already satisfied: matplotlib!=3.0.0,>=2.0.2 in c:\\users\\kenny\\anaconda3\\lib\\site-packages (from yellowbrick) (3.4.3)\n",
      "Requirement already satisfied: numpy>=1.16.0 in c:\\users\\kenny\\anaconda3\\lib\\site-packages (from yellowbrick) (1.20.3)\n",
      "Collecting scikit-learn>=1.0.0\n",
      "  Downloading scikit_learn-1.0.2-cp39-cp39-win_amd64.whl (7.2 MB)\n",
      "Requirement already satisfied: cycler>=0.10.0 in c:\\users\\kenny\\anaconda3\\lib\\site-packages (from yellowbrick) (0.10.0)\n",
      "Requirement already satisfied: scipy>=1.0.0 in c:\\users\\kenny\\anaconda3\\lib\\site-packages (from yellowbrick) (1.7.1)\n",
      "Requirement already satisfied: six in c:\\users\\kenny\\anaconda3\\lib\\site-packages (from cycler>=0.10.0->yellowbrick) (1.16.0)\n",
      "Requirement already satisfied: pyparsing>=2.2.1 in c:\\users\\kenny\\anaconda3\\lib\\site-packages (from matplotlib!=3.0.0,>=2.0.2->yellowbrick) (3.0.4)\n",
      "Requirement already satisfied: python-dateutil>=2.7 in c:\\users\\kenny\\anaconda3\\lib\\site-packages (from matplotlib!=3.0.0,>=2.0.2->yellowbrick) (2.8.2)\n",
      "\n",
      "Requirement already satisfied: pillow>=6.2.0 in c:\\users\\kenny\\anaconda3\\lib\\site-packages (from matplotlib!=3.0.0,>=2.0.2->yellowbrick) (8.4.0)\n",
      "Requirement already satisfied: kiwisolver>=1.0.1 in c:\\users\\kenny\\anaconda3\\lib\\site-packages (from matplotlib!=3.0.0,>=2.0.2->yellowbrick) (1.3.1)\n",
      "Requirement already satisfied: threadpoolctl>=2.0.0 in c:\\users\\kenny\\anaconda3\\lib\\site-packages (from scikit-learn>=1.0.0->yellowbrick) (2.2.0)\n",
      "Requirement already satisfied: joblib>=0.11 in c:\\users\\kenny\\anaconda3\\lib\\site-packages (from scikit-learn>=1.0.0->yellowbrick) (1.1.0)\n",
      "Installing collected packages: scikit-learn, yellowbrick\n",
      "Successfully installed scikit-learn-1.0.2 yellowbrick-1.4\n",
      "Collecting plotly\n",
      "  Downloading plotly-5.6.0-py2.py3-none-any.whl (27.7 MB)\n",
      "Requirement already satisfied: six in c:\\users\\kenny\\anaconda3\\lib\\site-packages (from plotly) (1.16.0)\n",
      "Collecting tenacity>=6.2.0\n",
      "  Using cached tenacity-8.0.1-py3-none-any.whl (24 kB)\n",
      "Installing collected packages: tenacity, plotly\n",
      "Successfully installed plotly-5.6.0 tenacity-8.0.1\n",
      "Note: you may need to restart the kernel to use updated packages.\n",
      "Collecting dill\n",
      "  Downloading dill-0.3.4-py2.py3-none-any.whl (86 kB)\n",
      "Installing collected packages: dill\n",
      "Successfully installed dill-0.3.4\n",
      "Note: you may need to restart the kernel to use updated packages.\n"
     ]
    }
   ],
   "source": [
    "%pip install pypandoc --user\n",
    "%pip install jupyslides --user\n",
    "%pip install yellowbrick --user\n",
    "%pip install plotly --user\n",
    "%pip install dill --user"
   ]
  },
  {
   "cell_type": "markdown",
   "id": "94fb3197",
   "metadata": {},
   "source": [
    "## Create database"
   ]
  },
  {
   "cell_type": "code",
   "execution_count": 2,
   "id": "0900bf9c",
   "metadata": {},
   "outputs": [],
   "source": [
    "import pyodbc\n",
    "server = 'localhost\\SQLEXPRESS' \n",
    "username = 'sa' \n",
    "password = 'user1' \n",
    "cnxn = pyodbc.connect('DRIVER={SQL Server};SERVER='+server+';UID='+username+';PWD='+ password,autocommit=True)\n",
    "cursor = cnxn.cursor()\n",
    "\n",
    "sql1='''\n",
    "USE master;\n",
    "ALTER DATABASE DataWarehouse1 SET SINGLE_USER WITH ROLLBACK IMMEDIATE;\n",
    "DROP DATABASE IF EXISTS DataWarehouse1\n",
    "create database DataWarehouse1\n",
    "\n",
    "ALTER DATABASE DataWarehouse2 SET SINGLE_USER WITH ROLLBACK IMMEDIATE;\n",
    "DROP DATABASE IF EXISTS DataWarehouse2\n",
    "create database DataWarehouse2\n",
    "\n",
    "ALTER DATABASE datahub SET SINGLE_USER WITH ROLLBACK IMMEDIATE;\n",
    "DROP DATABASE IF EXISTS datahub\n",
    "create database datahub\n",
    "\n",
    "\n",
    "'''\n",
    "\n",
    "\n",
    "cursor.execute(sql1)\n",
    "cnxn.commit()\n",
    "\n",
    "cursor.close()"
   ]
  },
  {
   "cell_type": "markdown",
   "id": "62a2ece3",
   "metadata": {},
   "source": [
    "# Establish connection to database"
   ]
  },
  {
   "cell_type": "code",
   "execution_count": 3,
   "id": "166f5e6d",
   "metadata": {},
   "outputs": [],
   "source": [
    "import pyodbc\n",
    "import urllib\n",
    "import sqlalchemy\n",
    "\n",
    "'''sources databases'''\n",
    "params_p = urllib.parse.quote_plus(\"DRIVER={SQL Server Native Client 11.0};\"\n",
    "                                 \"SERVER=localhost\\SQLEXPRESS;\"\n",
    "                                 \"DATABASE=DataWarehouse1;\"\n",
    "                                 \"UID=sa;\"\n",
    "                                 \"PWD=user1\")\n",
    "\n",
    "engine_p = sqlalchemy.create_engine(\"mssql+pyodbc:///?odbc_connect={}\".format(params_p))\n",
    "\n",
    "\n",
    "params_s = urllib.parse.quote_plus(\"DRIVER={SQL Server Native Client 11.0};\"\n",
    "                                 \"SERVER=localhost\\SQLEXPRESS;\"\n",
    "                                 \"DATABASE=DataWarehouse2;\"\n",
    "                                 \"UID=sa;\"\n",
    "                                 \"PWD=user1\")\n",
    "\n",
    "engine_s = sqlalchemy.create_engine(\"mssql+pyodbc:///?odbc_connect={}\".format(params_s))\n",
    "\n",
    "\n",
    "\n",
    "'''destination databases'''\n",
    "\n",
    "params_datahub = urllib.parse.quote_plus(\"DRIVER={SQL Server Native Client 11.0};\"\n",
    "                                 \"SERVER=localhost\\SQLEXPRESS;\"\n",
    "                                 \"DATABASE=datahub;\"\n",
    "                                 \"UID=sa;\"\n",
    "                                 \"PWD=user1\")\n",
    "\n",
    "engine_datahub = sqlalchemy.create_engine(\"mssql+pyodbc:///?odbc_connect={}\".format(params_datahub))"
   ]
  },
  {
   "cell_type": "markdown",
   "id": "cc052a29",
   "metadata": {},
   "source": [
    "# Import data & Export data to database"
   ]
  },
  {
   "cell_type": "code",
   "execution_count": 4,
   "id": "f1c7afca",
   "metadata": {},
   "outputs": [
    {
     "name": "stdout",
     "output_type": "stream",
     "text": [
      "audit_engagement_data\n",
      "audit_fraud_risk_data\n",
      "audit_outlier_data\n",
      "audit_post_data\n",
      "audit_Q3_Data_30\n",
      "audit_Q3_Data_31\n",
      "audit_qualitative_bankruptcy\n",
      "credit_score\n",
      "credit_test\n",
      "credit_train\n",
      "HR_Employee_Attrition\n",
      "primary_data_funnel\n",
      "secondary_data_funnel\n"
     ]
    }
   ],
   "source": [
    "import glob\n",
    "from pathlib import Path\n",
    "\n",
    "directoryPath=r'C:/Business_Data_Analysis/data/'\n",
    "for file_name in glob.glob(directoryPath+'*.csv'):\n",
    "    if 'sales' not in file_name:\n",
    "        print(Path(file_name).stem)\n",
    "        x = pd.read_csv(file_name)\n",
    "        x.to_sql(Path(file_name).stem, engine_datahub,if_exists='replace',index=False)\n"
   ]
  },
  {
   "cell_type": "code",
   "execution_count": 5,
   "id": "be005536",
   "metadata": {},
   "outputs": [],
   "source": [
    "'''sales data'''\n",
    "\n",
    "'''initial ETL to database'''\n",
    "df_sales_p=pd.read_csv(directoryPath+'sales_primary_data.csv',parse_dates=['onboarded_month','user_login_month','auth_month'],infer_datetime_format=True,index_col=False)\n",
    "df_sales_s=pd.read_csv(directoryPath+'sales_secondary_data.csv',parse_dates=['user_login_month','auth_month'],infer_datetime_format=True,index_col=False)\n",
    "\n",
    "'''export data to datahub'''\n",
    "df_sales_s.to_sql(\"sales_data_secondary\", engine_s, if_exists='replace',index=False)\n",
    "df_sales_p.to_sql(\"sales_data_primary\", engine_p,if_exists='replace',index=False)\n",
    "# df_sales_p.to_sql(\"sql_sales_data_primary\", engine_p,if_exists='replace',index=False)\n",
    "df_sales_p.to_sql(\"sql_sales_data_primary\", engine_datahub,if_exists='replace',index=False)\n"
   ]
  },
  {
   "cell_type": "markdown",
   "id": "17452155",
   "metadata": {},
   "source": [
    "# Check data"
   ]
  },
  {
   "cell_type": "code",
   "execution_count": 6,
   "id": "3767166e",
   "metadata": {},
   "outputs": [],
   "source": [
    "# df_sales_p.shape"
   ]
  },
  {
   "cell_type": "code",
   "execution_count": null,
   "id": "2e311cd2",
   "metadata": {},
   "outputs": [],
   "source": []
  }
 ],
 "metadata": {
  "kernelspec": {
   "display_name": "Python 3 (ipykernel)",
   "language": "python",
   "name": "python3"
  },
  "language_info": {
   "codemirror_mode": {
    "name": "ipython",
    "version": 3
   },
   "file_extension": ".py",
   "mimetype": "text/x-python",
   "name": "python",
   "nbconvert_exporter": "python",
   "pygments_lexer": "ipython3",
   "version": "3.9.7"
  }
 },
 "nbformat": 4,
 "nbformat_minor": 5
}
